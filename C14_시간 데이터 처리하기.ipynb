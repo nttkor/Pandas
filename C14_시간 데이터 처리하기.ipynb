{
 "cells": [
  {
   "cell_type": "code",
   "execution_count": 1,
   "id": "55bb1ea6",
   "metadata": {},
   "outputs": [
    {
     "data": {
      "text/html": [
       "<div>\n",
       "<style scoped>\n",
       "    .dataframe tbody tr th:only-of-type {\n",
       "        vertical-align: middle;\n",
       "    }\n",
       "\n",
       "    .dataframe tbody tr th {\n",
       "        vertical-align: top;\n",
       "    }\n",
       "\n",
       "    .dataframe thead th {\n",
       "        text-align: right;\n",
       "    }\n",
       "</style>\n",
       "<table border=\"1\" class=\"dataframe\">\n",
       "  <thead>\n",
       "    <tr style=\"text-align: right;\">\n",
       "      <th></th>\n",
       "      <th>이름</th>\n",
       "      <th>출생일</th>\n",
       "      <th>사망일</th>\n",
       "      <th>나이</th>\n",
       "      <th>직업</th>\n",
       "    </tr>\n",
       "  </thead>\n",
       "  <tbody>\n",
       "    <tr>\n",
       "      <th>0</th>\n",
       "      <td>홍길동</td>\n",
       "      <td>1920-07-25</td>\n",
       "      <td>1958-04-16</td>\n",
       "      <td>37</td>\n",
       "      <td>회사원</td>\n",
       "    </tr>\n",
       "    <tr>\n",
       "      <th>1</th>\n",
       "      <td>이순신</td>\n",
       "      <td>1876-06-13</td>\n",
       "      <td>1937-10-16</td>\n",
       "      <td>61</td>\n",
       "      <td>군인</td>\n",
       "    </tr>\n",
       "    <tr>\n",
       "      <th>2</th>\n",
       "      <td>이홍길</td>\n",
       "      <td>1820-05-12</td>\n",
       "      <td>1910-08-13</td>\n",
       "      <td>90</td>\n",
       "      <td>의사</td>\n",
       "    </tr>\n",
       "    <tr>\n",
       "      <th>3</th>\n",
       "      <td>곽재우</td>\n",
       "      <td>1867-11-07</td>\n",
       "      <td>1934-07-04</td>\n",
       "      <td>66</td>\n",
       "      <td>연구원</td>\n",
       "    </tr>\n",
       "    <tr>\n",
       "      <th>4</th>\n",
       "      <td>신나라</td>\n",
       "      <td>1907-05-27</td>\n",
       "      <td>1964-04-14</td>\n",
       "      <td>56</td>\n",
       "      <td>연구원</td>\n",
       "    </tr>\n",
       "    <tr>\n",
       "      <th>5</th>\n",
       "      <td>오기영</td>\n",
       "      <td>1813-03-15</td>\n",
       "      <td>1858-06-16</td>\n",
       "      <td>45</td>\n",
       "      <td>연구원</td>\n",
       "    </tr>\n",
       "    <tr>\n",
       "      <th>6</th>\n",
       "      <td>기충현</td>\n",
       "      <td>1912-06-23</td>\n",
       "      <td>1954-06-07</td>\n",
       "      <td>41</td>\n",
       "      <td>회사원</td>\n",
       "    </tr>\n",
       "    <tr>\n",
       "      <th>7</th>\n",
       "      <td>심기한</td>\n",
       "      <td>1777-04-30</td>\n",
       "      <td>1855-02-23</td>\n",
       "      <td>77</td>\n",
       "      <td>백수</td>\n",
       "    </tr>\n",
       "  </tbody>\n",
       "</table>\n",
       "</div>"
      ],
      "text/plain": [
       "    이름         출생일         사망일  나이   직업\n",
       "0  홍길동  1920-07-25  1958-04-16  37  회사원\n",
       "1  이순신  1876-06-13  1937-10-16  61   군인\n",
       "2  이홍길  1820-05-12  1910-08-13  90   의사\n",
       "3  곽재우  1867-11-07  1934-07-04  66  연구원\n",
       "4  신나라  1907-05-27  1964-04-14  56  연구원\n",
       "5  오기영  1813-03-15  1858-06-16  45  연구원\n",
       "6  기충현  1912-06-23  1954-06-07  41  회사원\n",
       "7  심기한  1777-04-30  1855-02-23  77   백수"
      ]
     },
     "execution_count": 1,
     "metadata": {},
     "output_type": "execute_result"
    }
   ],
   "source": [
    "import pandas as pd\n",
    "\n",
    "df = pd.read_csv(\"person_info.csv\", encoding='euc-kr')\n",
    "df"
   ]
  },
  {
   "cell_type": "markdown",
   "id": "54b54e32",
   "metadata": {},
   "source": [
    "## 출생일열과 사망일열이 날짜 타입이 아닌, 문자열 타입임을 확인"
   ]
  },
  {
   "cell_type": "code",
   "execution_count": 2,
   "id": "8bea8928",
   "metadata": {},
   "outputs": [
    {
     "name": "stdout",
     "output_type": "stream",
     "text": [
      "<class 'pandas.core.frame.DataFrame'>\n",
      "RangeIndex: 8 entries, 0 to 7\n",
      "Data columns (total 5 columns):\n",
      " #   Column  Non-Null Count  Dtype \n",
      "---  ------  --------------  ----- \n",
      " 0   이름      8 non-null      object\n",
      " 1   출생일     8 non-null      object\n",
      " 2   사망일     8 non-null      object\n",
      " 3   나이      8 non-null      int64 \n",
      " 4   직업      8 non-null      object\n",
      "dtypes: int64(1), object(4)\n",
      "memory usage: 448.0+ bytes\n"
     ]
    }
   ],
   "source": [
    "df.info()"
   ]
  },
  {
   "cell_type": "markdown",
   "id": "4fa5c1c0",
   "metadata": {},
   "source": [
    "## 날짜 데이터가 문자열 타입이라면 연산을 할 수가 없음"
   ]
  },
  {
   "cell_type": "code",
   "execution_count": 3,
   "id": "0c993a8d",
   "metadata": {},
   "outputs": [
    {
     "data": {
      "text/html": [
       "<div>\n",
       "<style scoped>\n",
       "    .dataframe tbody tr th:only-of-type {\n",
       "        vertical-align: middle;\n",
       "    }\n",
       "\n",
       "    .dataframe tbody tr th {\n",
       "        vertical-align: top;\n",
       "    }\n",
       "\n",
       "    .dataframe thead th {\n",
       "        text-align: right;\n",
       "    }\n",
       "</style>\n",
       "<table border=\"1\" class=\"dataframe\">\n",
       "  <thead>\n",
       "    <tr style=\"text-align: right;\">\n",
       "      <th></th>\n",
       "      <th>이름</th>\n",
       "      <th>출생일</th>\n",
       "      <th>사망일</th>\n",
       "      <th>나이</th>\n",
       "      <th>직업</th>\n",
       "    </tr>\n",
       "  </thead>\n",
       "  <tbody>\n",
       "    <tr>\n",
       "      <th>0</th>\n",
       "      <td>홍길동홍길동</td>\n",
       "      <td>1920-07-251920-07-25</td>\n",
       "      <td>1958-04-161958-04-16</td>\n",
       "      <td>74</td>\n",
       "      <td>회사원회사원</td>\n",
       "    </tr>\n",
       "    <tr>\n",
       "      <th>1</th>\n",
       "      <td>이순신이순신</td>\n",
       "      <td>1876-06-131876-06-13</td>\n",
       "      <td>1937-10-161937-10-16</td>\n",
       "      <td>122</td>\n",
       "      <td>군인군인</td>\n",
       "    </tr>\n",
       "    <tr>\n",
       "      <th>2</th>\n",
       "      <td>이홍길이홍길</td>\n",
       "      <td>1820-05-121820-05-12</td>\n",
       "      <td>1910-08-131910-08-13</td>\n",
       "      <td>180</td>\n",
       "      <td>의사의사</td>\n",
       "    </tr>\n",
       "    <tr>\n",
       "      <th>3</th>\n",
       "      <td>곽재우곽재우</td>\n",
       "      <td>1867-11-071867-11-07</td>\n",
       "      <td>1934-07-041934-07-04</td>\n",
       "      <td>132</td>\n",
       "      <td>연구원연구원</td>\n",
       "    </tr>\n",
       "    <tr>\n",
       "      <th>4</th>\n",
       "      <td>신나라신나라</td>\n",
       "      <td>1907-05-271907-05-27</td>\n",
       "      <td>1964-04-141964-04-14</td>\n",
       "      <td>112</td>\n",
       "      <td>연구원연구원</td>\n",
       "    </tr>\n",
       "    <tr>\n",
       "      <th>5</th>\n",
       "      <td>오기영오기영</td>\n",
       "      <td>1813-03-151813-03-15</td>\n",
       "      <td>1858-06-161858-06-16</td>\n",
       "      <td>90</td>\n",
       "      <td>연구원연구원</td>\n",
       "    </tr>\n",
       "    <tr>\n",
       "      <th>6</th>\n",
       "      <td>기충현기충현</td>\n",
       "      <td>1912-06-231912-06-23</td>\n",
       "      <td>1954-06-071954-06-07</td>\n",
       "      <td>82</td>\n",
       "      <td>회사원회사원</td>\n",
       "    </tr>\n",
       "    <tr>\n",
       "      <th>7</th>\n",
       "      <td>심기한심기한</td>\n",
       "      <td>1777-04-301777-04-30</td>\n",
       "      <td>1855-02-231855-02-23</td>\n",
       "      <td>154</td>\n",
       "      <td>백수백수</td>\n",
       "    </tr>\n",
       "  </tbody>\n",
       "</table>\n",
       "</div>"
      ],
      "text/plain": [
       "       이름                   출생일                   사망일   나이      직업\n",
       "0  홍길동홍길동  1920-07-251920-07-25  1958-04-161958-04-16   74  회사원회사원\n",
       "1  이순신이순신  1876-06-131876-06-13  1937-10-161937-10-16  122    군인군인\n",
       "2  이홍길이홍길  1820-05-121820-05-12  1910-08-131910-08-13  180    의사의사\n",
       "3  곽재우곽재우  1867-11-071867-11-07  1934-07-041934-07-04  132  연구원연구원\n",
       "4  신나라신나라  1907-05-271907-05-27  1964-04-141964-04-14  112  연구원연구원\n",
       "5  오기영오기영  1813-03-151813-03-15  1858-06-161858-06-16   90  연구원연구원\n",
       "6  기충현기충현  1912-06-231912-06-23  1954-06-071954-06-07   82  회사원회사원\n",
       "7  심기한심기한  1777-04-301777-04-30  1855-02-231855-02-23  154    백수백수"
      ]
     },
     "execution_count": 3,
     "metadata": {},
     "output_type": "execute_result"
    }
   ],
   "source": [
    "df + df"
   ]
  },
  {
   "cell_type": "markdown",
   "id": "f649f87f",
   "metadata": {},
   "source": [
    "## to_datetime() 함수는 문자열로 된 날짜 데이터를 날짜 타입으로 변환할 수 있음"
   ]
  },
  {
   "cell_type": "code",
   "execution_count": 4,
   "id": "6836eccd",
   "metadata": {},
   "outputs": [
    {
     "name": "stdout",
     "output_type": "stream",
     "text": [
      "<class 'pandas.core.frame.DataFrame'>\n",
      "RangeIndex: 8 entries, 0 to 7\n",
      "Data columns (total 5 columns):\n",
      " #   Column  Non-Null Count  Dtype         \n",
      "---  ------  --------------  -----         \n",
      " 0   이름      8 non-null      object        \n",
      " 1   출생일     8 non-null      datetime64[ns]\n",
      " 2   사망일     8 non-null      datetime64[ns]\n",
      " 3   나이      8 non-null      int64         \n",
      " 4   직업      8 non-null      object        \n",
      "dtypes: datetime64[ns](2), int64(1), object(2)\n",
      "memory usage: 448.0+ bytes\n"
     ]
    }
   ],
   "source": [
    "df['출생일'] = pd.to_datetime(df['출생일'], format='%Y-%m-%d')\n",
    "df['사망일'] = pd.to_datetime(df['사망일'], format='%Y-%m-%d')\n",
    "df.info()"
   ]
  },
  {
   "cell_type": "markdown",
   "id": "63a98221",
   "metadata": {},
   "source": [
    "## 이제 날짜 타입으로 변환했기 때문에 연산이 가능함"
   ]
  },
  {
   "cell_type": "code",
   "execution_count": 5,
   "id": "92c8fab8",
   "metadata": {},
   "outputs": [
    {
     "data": {
      "text/html": [
       "<div>\n",
       "<style scoped>\n",
       "    .dataframe tbody tr th:only-of-type {\n",
       "        vertical-align: middle;\n",
       "    }\n",
       "\n",
       "    .dataframe tbody tr th {\n",
       "        vertical-align: top;\n",
       "    }\n",
       "\n",
       "    .dataframe thead th {\n",
       "        text-align: right;\n",
       "    }\n",
       "</style>\n",
       "<table border=\"1\" class=\"dataframe\">\n",
       "  <thead>\n",
       "    <tr style=\"text-align: right;\">\n",
       "      <th></th>\n",
       "      <th>이름</th>\n",
       "      <th>출생일</th>\n",
       "      <th>사망일</th>\n",
       "      <th>나이</th>\n",
       "      <th>직업</th>\n",
       "      <th>days</th>\n",
       "    </tr>\n",
       "  </thead>\n",
       "  <tbody>\n",
       "    <tr>\n",
       "      <th>0</th>\n",
       "      <td>홍길동</td>\n",
       "      <td>1920-07-25</td>\n",
       "      <td>1958-04-16</td>\n",
       "      <td>37</td>\n",
       "      <td>회사원</td>\n",
       "      <td>13779 days</td>\n",
       "    </tr>\n",
       "    <tr>\n",
       "      <th>1</th>\n",
       "      <td>이순신</td>\n",
       "      <td>1876-06-13</td>\n",
       "      <td>1937-10-16</td>\n",
       "      <td>61</td>\n",
       "      <td>군인</td>\n",
       "      <td>22404 days</td>\n",
       "    </tr>\n",
       "    <tr>\n",
       "      <th>2</th>\n",
       "      <td>이홍길</td>\n",
       "      <td>1820-05-12</td>\n",
       "      <td>1910-08-13</td>\n",
       "      <td>90</td>\n",
       "      <td>의사</td>\n",
       "      <td>32964 days</td>\n",
       "    </tr>\n",
       "    <tr>\n",
       "      <th>3</th>\n",
       "      <td>곽재우</td>\n",
       "      <td>1867-11-07</td>\n",
       "      <td>1934-07-04</td>\n",
       "      <td>66</td>\n",
       "      <td>연구원</td>\n",
       "      <td>24345 days</td>\n",
       "    </tr>\n",
       "    <tr>\n",
       "      <th>4</th>\n",
       "      <td>신나라</td>\n",
       "      <td>1907-05-27</td>\n",
       "      <td>1964-04-14</td>\n",
       "      <td>56</td>\n",
       "      <td>연구원</td>\n",
       "      <td>20777 days</td>\n",
       "    </tr>\n",
       "    <tr>\n",
       "      <th>5</th>\n",
       "      <td>오기영</td>\n",
       "      <td>1813-03-15</td>\n",
       "      <td>1858-06-16</td>\n",
       "      <td>45</td>\n",
       "      <td>연구원</td>\n",
       "      <td>16529 days</td>\n",
       "    </tr>\n",
       "    <tr>\n",
       "      <th>6</th>\n",
       "      <td>기충현</td>\n",
       "      <td>1912-06-23</td>\n",
       "      <td>1954-06-07</td>\n",
       "      <td>41</td>\n",
       "      <td>회사원</td>\n",
       "      <td>15324 days</td>\n",
       "    </tr>\n",
       "    <tr>\n",
       "      <th>7</th>\n",
       "      <td>심기한</td>\n",
       "      <td>1777-04-30</td>\n",
       "      <td>1855-02-23</td>\n",
       "      <td>77</td>\n",
       "      <td>백수</td>\n",
       "      <td>28422 days</td>\n",
       "    </tr>\n",
       "  </tbody>\n",
       "</table>\n",
       "</div>"
      ],
      "text/plain": [
       "    이름        출생일        사망일  나이   직업       days\n",
       "0  홍길동 1920-07-25 1958-04-16  37  회사원 13779 days\n",
       "1  이순신 1876-06-13 1937-10-16  61   군인 22404 days\n",
       "2  이홍길 1820-05-12 1910-08-13  90   의사 32964 days\n",
       "3  곽재우 1867-11-07 1934-07-04  66  연구원 24345 days\n",
       "4  신나라 1907-05-27 1964-04-14  56  연구원 20777 days\n",
       "5  오기영 1813-03-15 1858-06-16  45  연구원 16529 days\n",
       "6  기충현 1912-06-23 1954-06-07  41  회사원 15324 days\n",
       "7  심기한 1777-04-30 1855-02-23  77   백수 28422 days"
      ]
     },
     "execution_count": 5,
     "metadata": {},
     "output_type": "execute_result"
    }
   ],
   "source": [
    "df['days'] = df['사망일'] - df['출생일']\n",
    "df"
   ]
  },
  {
   "cell_type": "markdown",
   "id": "df6e6e44",
   "metadata": {},
   "source": [
    "## 날짜 타입의 열에서 년도만 추출하기"
   ]
  },
  {
   "cell_type": "code",
   "execution_count": 6,
   "id": "1c6edf51",
   "metadata": {},
   "outputs": [
    {
     "data": {
      "text/plain": [
       "0    1920\n",
       "1    1876\n",
       "2    1820\n",
       "3    1867\n",
       "4    1907\n",
       "5    1813\n",
       "6    1912\n",
       "7    1777\n",
       "Name: 출생일, dtype: int64"
      ]
     },
     "execution_count": 6,
     "metadata": {},
     "output_type": "execute_result"
    }
   ],
   "source": [
    "df['출생일'].dt.year"
   ]
  },
  {
   "cell_type": "markdown",
   "id": "dbb2a06b",
   "metadata": {},
   "source": [
    "## 날짜 타입의 열에서 월만 추출하기"
   ]
  },
  {
   "cell_type": "code",
   "execution_count": 7,
   "id": "b54f55db",
   "metadata": {},
   "outputs": [
    {
     "data": {
      "text/plain": [
       "0     7\n",
       "1     6\n",
       "2     5\n",
       "3    11\n",
       "4     5\n",
       "5     3\n",
       "6     6\n",
       "7     4\n",
       "Name: 출생일, dtype: int64"
      ]
     },
     "execution_count": 7,
     "metadata": {},
     "output_type": "execute_result"
    }
   ],
   "source": [
    "df['출생일'].dt.month"
   ]
  },
  {
   "cell_type": "markdown",
   "id": "5c2f2a8b",
   "metadata": {},
   "source": [
    "## 날짜 타입의 열에서 일만 추출하기"
   ]
  },
  {
   "cell_type": "code",
   "execution_count": 8,
   "id": "e1f22c89",
   "metadata": {},
   "outputs": [
    {
     "data": {
      "text/plain": [
       "0    25\n",
       "1    13\n",
       "2    12\n",
       "3     7\n",
       "4    27\n",
       "5    15\n",
       "6    23\n",
       "7    30\n",
       "Name: 출생일, dtype: int64"
      ]
     },
     "execution_count": 8,
     "metadata": {},
     "output_type": "execute_result"
    }
   ],
   "source": [
    "df['출생일'].dt.day"
   ]
  },
  {
   "cell_type": "markdown",
   "id": "52a9e6ff",
   "metadata": {},
   "source": [
    "### 좀 더 자세한 내용은 pd.to_datetime()에 대한 공식 문서를 확인해주세요.\n",
    "https://pandas.pydata.org/docs/reference/api/pandas.to_datetime.html"
   ]
  }
 ],
 "metadata": {
  "kernelspec": {
   "display_name": "Python 3 (ipykernel)",
   "language": "python",
   "name": "python3"
  },
  "language_info": {
   "codemirror_mode": {
    "name": "ipython",
    "version": 3
   },
   "file_extension": ".py",
   "mimetype": "text/x-python",
   "name": "python",
   "nbconvert_exporter": "python",
   "pygments_lexer": "ipython3",
   "version": "3.9.12"
  }
 },
 "nbformat": 4,
 "nbformat_minor": 5
}

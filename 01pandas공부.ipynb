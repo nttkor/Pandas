{
 "cells": [
  {
   "cell_type": "markdown",
   "id": "2a20f41b",
   "metadata": {},
   "source": [
    "# Pandas\n",
    "- 데이터의 한행(row)가 시리즈이고 시리즈가 모이면 데이터프레임이 된다.\n",
    "- 시리즈만들기"
   ]
  },
  {
   "cell_type": "code",
   "execution_count": 3,
   "id": "c88bca3f",
   "metadata": {},
   "outputs": [
    {
     "data": {
      "text/plain": [
       "a    1\n",
       "b    2\n",
       "c    3\n",
       "d    4\n",
       "e    5\n",
       "dtype: int64"
      ]
     },
     "execution_count": 3,
     "metadata": {},
     "output_type": "execute_result"
    }
   ],
   "source": [
    "import pandas as pd\n",
    "a = pd.Series([1, 2, 3, 4, 5], index=['a', 'b', 'c', 'd', 'e'])\n",
    "a"
   ]
  },
  {
   "cell_type": "markdown",
   "id": "0bf9de36",
   "metadata": {},
   "source": [
    "# 데이터프레임 만들기\n",
    "pd.DataFrame으로 데이트 프레임을 만들수 있다.\n",
    "딕셔너리를 넣어주면 된다\n",
    "index= 를 추가할수도 있고\n",
    "columns= 로 컬럼의 위치를 바꿀수도 있다."
   ]
  },
  {
   "cell_type": "code",
   "execution_count": 3,
   "id": "36ce358c",
   "metadata": {},
   "outputs": [
    {
     "data": {
      "text/html": [
       "<div>\n",
       "<style scoped>\n",
       "    .dataframe tbody tr th:only-of-type {\n",
       "        vertical-align: middle;\n",
       "    }\n",
       "\n",
       "    .dataframe tbody tr th {\n",
       "        vertical-align: top;\n",
       "    }\n",
       "\n",
       "    .dataframe thead th {\n",
       "        text-align: right;\n",
       "    }\n",
       "</style>\n",
       "<table border=\"1\" class=\"dataframe\">\n",
       "  <thead>\n",
       "    <tr style=\"text-align: right;\">\n",
       "      <th></th>\n",
       "      <th>name</th>\n",
       "      <th>age</th>\n",
       "      <th>sex</th>\n",
       "    </tr>\n",
       "  </thead>\n",
       "  <tbody>\n",
       "    <tr>\n",
       "      <th>a</th>\n",
       "      <td>kim</td>\n",
       "      <td>20</td>\n",
       "      <td>M</td>\n",
       "    </tr>\n",
       "    <tr>\n",
       "      <th>b</th>\n",
       "      <td>lee</td>\n",
       "      <td>30</td>\n",
       "      <td>F</td>\n",
       "    </tr>\n",
       "    <tr>\n",
       "      <th>c</th>\n",
       "      <td>park</td>\n",
       "      <td>40</td>\n",
       "      <td>M</td>\n",
       "    </tr>\n",
       "  </tbody>\n",
       "</table>\n",
       "</div>"
      ],
      "text/plain": [
       "   name  age sex\n",
       "a   kim   20   M\n",
       "b   lee   30   F\n",
       "c  park   40   M"
      ]
     },
     "execution_count": 3,
     "metadata": {},
     "output_type": "execute_result"
    }
   ],
   "source": [
    "import pandas as pd\n",
    "df = pd.DataFrame({\n",
    "    'name': ['kim', 'lee', 'park'],\n",
    "    'sex': ['M', 'F', 'M'],\n",
    "    'age': [20, 30, 40],\n",
    "},index=['a', 'b', 'c'],columns=['name','age','sex'])\n",
    "df\n"
   ]
  },
  {
   "cell_type": "code",
   "execution_count": 35,
   "id": "9f40d2cd",
   "metadata": {},
   "outputs": [
    {
     "name": "stdout",
     "output_type": "stream",
     "text": [
      "<class 'pandas.core.series.Series'>\n",
      "RangeIndex: 10 entries, 0 to 9\n",
      "Series name: None\n",
      "Non-Null Count  Dtype\n",
      "--------------  -----\n",
      "10 non-null     int64\n",
      "dtypes: int64(1)\n",
      "memory usage: 212.0 bytes\n",
      "info\n",
      "None\n",
      " head\n",
      "0    72\n",
      "1    41\n",
      "2    16\n",
      "3    27\n",
      "4    74\n",
      "dtype: int64\n",
      " tail\n",
      "5    28\n",
      "6     2\n",
      "7    70\n",
      "8    61\n",
      "9    31\n",
      "dtype: int64\n"
     ]
    }
   ],
   "source": [
    "import pandas as pd\n",
    "import random\n",
    "\n",
    "a = pd.Series(random.sample(range(1, 100), 10)) \n",
    "b = pd.Series(random.sample(range(1, 100), 10)) \n",
    "# print(a,a+b[a+b  < 100])\n",
    "print(f'info\\n{a.info()}\\n head\\n{a.head()}\\n tail\\n{a.tail()}')"
   ]
  },
  {
   "cell_type": "code",
   "execution_count": 36,
   "id": "9ee52b3a",
   "metadata": {},
   "outputs": [
    {
     "data": {
      "text/plain": [
       "(10,)"
      ]
     },
     "execution_count": 36,
     "metadata": {},
     "output_type": "execute_result"
    }
   ],
   "source": [
    "a.shape\n"
   ]
  }
 ],
 "metadata": {
  "kernelspec": {
   "display_name": "Python 3",
   "language": "python",
   "name": "python3"
  },
  "language_info": {
   "codemirror_mode": {
    "name": "ipython",
    "version": 3
   },
   "file_extension": ".py",
   "mimetype": "text/x-python",
   "name": "python",
   "nbconvert_exporter": "python",
   "pygments_lexer": "ipython3",
   "version": "3.11.4"
  }
 },
 "nbformat": 4,
 "nbformat_minor": 5
}
